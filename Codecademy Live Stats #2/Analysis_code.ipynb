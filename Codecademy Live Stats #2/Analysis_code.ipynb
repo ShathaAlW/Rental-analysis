{
  "nbformat": 4,
  "nbformat_minor": 0,
  "metadata": {
    "kernelspec": {
      "display_name": "Python 3",
      "language": "python",
      "name": "python3"
    },
    "language_info": {
      "codemirror_mode": {
        "name": "ipython",
        "version": 3
      },
      "file_extension": ".py",
      "mimetype": "text/x-python",
      "name": "python",
      "nbconvert_exporter": "python",
      "pygments_lexer": "ipython3",
      "version": "3.7.6"
    },
    "colab": {
      "name": "Starting Code.ipynb",
      "provenance": []
    }
  },
  "cells": [
    {
      "cell_type": "code",
      "metadata": {
        "id": "enG5E9Bkjvpy"
      },
      "source": [
        "import pandas as pd\n",
        "import numpy as np\n",
        "import matplotlib.pyplot as plt \n",
        "import seaborn as sns\n",
        "import random"
      ],
      "execution_count": 101,
      "outputs": []
    },
    {
      "cell_type": "code",
      "metadata": {
        "id": "l2toy2Pzjvp2"
      },
      "source": [
        "rentals = pd.read_csv(\"https://raw.githubusercontent.com/Codecademy/datasets/master/streeteasy/streeteasy.csv\")"
      ],
      "execution_count": 102,
      "outputs": []
    },
    {
      "cell_type": "code",
      "metadata": {
        "colab": {
          "base_uri": "https://localhost:8080/",
          "height": 287
        },
        "id": "RteR6uaEjvp2",
        "outputId": "90670f32-fb6e-47ef-8a0c-e34ab4089060"
      },
      "source": [
        "rentals.head()"
      ],
      "execution_count": 103,
      "outputs": [
        {
          "output_type": "execute_result",
          "data": {
            "text/html": [
              "<div>\n",
              "<style scoped>\n",
              "    .dataframe tbody tr th:only-of-type {\n",
              "        vertical-align: middle;\n",
              "    }\n",
              "\n",
              "    .dataframe tbody tr th {\n",
              "        vertical-align: top;\n",
              "    }\n",
              "\n",
              "    .dataframe thead th {\n",
              "        text-align: right;\n",
              "    }\n",
              "</style>\n",
              "<table border=\"1\" class=\"dataframe\">\n",
              "  <thead>\n",
              "    <tr style=\"text-align: right;\">\n",
              "      <th></th>\n",
              "      <th>rental_id</th>\n",
              "      <th>building_id</th>\n",
              "      <th>rent</th>\n",
              "      <th>bedrooms</th>\n",
              "      <th>bathrooms</th>\n",
              "      <th>size_sqft</th>\n",
              "      <th>min_to_subway</th>\n",
              "      <th>floor</th>\n",
              "      <th>building_age_yrs</th>\n",
              "      <th>no_fee</th>\n",
              "      <th>has_roofdeck</th>\n",
              "      <th>has_washer_dryer</th>\n",
              "      <th>has_doorman</th>\n",
              "      <th>has_elevator</th>\n",
              "      <th>has_dishwasher</th>\n",
              "      <th>has_patio</th>\n",
              "      <th>has_gym</th>\n",
              "      <th>neighborhood</th>\n",
              "      <th>submarket</th>\n",
              "      <th>borough</th>\n",
              "    </tr>\n",
              "  </thead>\n",
              "  <tbody>\n",
              "    <tr>\n",
              "      <th>0</th>\n",
              "      <td>1545</td>\n",
              "      <td>44518357</td>\n",
              "      <td>2550</td>\n",
              "      <td>0.0</td>\n",
              "      <td>1</td>\n",
              "      <td>480</td>\n",
              "      <td>9</td>\n",
              "      <td>2.0</td>\n",
              "      <td>17</td>\n",
              "      <td>1</td>\n",
              "      <td>1</td>\n",
              "      <td>0</td>\n",
              "      <td>0</td>\n",
              "      <td>1</td>\n",
              "      <td>1</td>\n",
              "      <td>0</td>\n",
              "      <td>1</td>\n",
              "      <td>Upper East Side</td>\n",
              "      <td>All Upper East Side</td>\n",
              "      <td>Manhattan</td>\n",
              "    </tr>\n",
              "    <tr>\n",
              "      <th>1</th>\n",
              "      <td>2472</td>\n",
              "      <td>94441623</td>\n",
              "      <td>11500</td>\n",
              "      <td>2.0</td>\n",
              "      <td>2</td>\n",
              "      <td>2000</td>\n",
              "      <td>4</td>\n",
              "      <td>1.0</td>\n",
              "      <td>96</td>\n",
              "      <td>0</td>\n",
              "      <td>0</td>\n",
              "      <td>0</td>\n",
              "      <td>0</td>\n",
              "      <td>0</td>\n",
              "      <td>0</td>\n",
              "      <td>0</td>\n",
              "      <td>0</td>\n",
              "      <td>Greenwich Village</td>\n",
              "      <td>All Downtown</td>\n",
              "      <td>Manhattan</td>\n",
              "    </tr>\n",
              "    <tr>\n",
              "      <th>2</th>\n",
              "      <td>10234</td>\n",
              "      <td>87632265</td>\n",
              "      <td>3000</td>\n",
              "      <td>3.0</td>\n",
              "      <td>1</td>\n",
              "      <td>1000</td>\n",
              "      <td>4</td>\n",
              "      <td>1.0</td>\n",
              "      <td>106</td>\n",
              "      <td>0</td>\n",
              "      <td>0</td>\n",
              "      <td>0</td>\n",
              "      <td>0</td>\n",
              "      <td>0</td>\n",
              "      <td>0</td>\n",
              "      <td>0</td>\n",
              "      <td>0</td>\n",
              "      <td>Astoria</td>\n",
              "      <td>Northwest Queens</td>\n",
              "      <td>Queens</td>\n",
              "    </tr>\n",
              "    <tr>\n",
              "      <th>3</th>\n",
              "      <td>2919</td>\n",
              "      <td>76909719</td>\n",
              "      <td>4500</td>\n",
              "      <td>1.0</td>\n",
              "      <td>1</td>\n",
              "      <td>916</td>\n",
              "      <td>2</td>\n",
              "      <td>51.0</td>\n",
              "      <td>29</td>\n",
              "      <td>0</td>\n",
              "      <td>1</td>\n",
              "      <td>0</td>\n",
              "      <td>1</td>\n",
              "      <td>1</td>\n",
              "      <td>1</td>\n",
              "      <td>0</td>\n",
              "      <td>0</td>\n",
              "      <td>Midtown</td>\n",
              "      <td>All Midtown</td>\n",
              "      <td>Manhattan</td>\n",
              "    </tr>\n",
              "    <tr>\n",
              "      <th>4</th>\n",
              "      <td>2790</td>\n",
              "      <td>92953520</td>\n",
              "      <td>4795</td>\n",
              "      <td>1.0</td>\n",
              "      <td>1</td>\n",
              "      <td>975</td>\n",
              "      <td>3</td>\n",
              "      <td>8.0</td>\n",
              "      <td>31</td>\n",
              "      <td>0</td>\n",
              "      <td>0</td>\n",
              "      <td>0</td>\n",
              "      <td>1</td>\n",
              "      <td>1</td>\n",
              "      <td>1</td>\n",
              "      <td>0</td>\n",
              "      <td>1</td>\n",
              "      <td>Greenwich Village</td>\n",
              "      <td>All Downtown</td>\n",
              "      <td>Manhattan</td>\n",
              "    </tr>\n",
              "  </tbody>\n",
              "</table>\n",
              "</div>"
            ],
            "text/plain": [
              "   rental_id  building_id  ...            submarket    borough\n",
              "0       1545     44518357  ...  All Upper East Side  Manhattan\n",
              "1       2472     94441623  ...         All Downtown  Manhattan\n",
              "2      10234     87632265  ...     Northwest Queens     Queens\n",
              "3       2919     76909719  ...          All Midtown  Manhattan\n",
              "4       2790     92953520  ...         All Downtown  Manhattan\n",
              "\n",
              "[5 rows x 20 columns]"
            ]
          },
          "metadata": {},
          "execution_count": 103
        }
      ]
    },
    {
      "cell_type": "code",
      "metadata": {
        "id": "rpT2-DH_jvp4"
      },
      "source": [
        "rentals.no_fee.replace({1:'yes', 0:'no'}, inplace=True)\n",
        "rentals.has_roofdeck.replace({1:'yes', 0:'no'}, inplace=True)\n",
        "rentals.has_washer_dryer.replace({1:'yes', 0:'no'}, inplace=True)\n",
        "rentals.has_doorman.replace({1:'yes', 0:'no'}, inplace=True)\n",
        "rentals.has_elevator.replace({1:'yes', 0:'no'}, inplace=True)\n",
        "rentals.has_dishwasher.replace({1:'yes', 0:'no'}, inplace=True)\n",
        "rentals.has_patio.replace({1:'yes', 0:'no'}, inplace=True)\n",
        "rentals.has_gym.replace({1:'yes', 0:'no'}, inplace=True)"
      ],
      "execution_count": 104,
      "outputs": []
    },
    {
      "cell_type": "code",
      "metadata": {
        "colab": {
          "base_uri": "https://localhost:8080/",
          "height": 420
        },
        "id": "6Wj4YgnKoo33",
        "outputId": "ac525375-3864-425e-dbfd-bbf2fd350e81"
      },
      "source": [
        "rentals.describe(include='all')"
      ],
      "execution_count": 105,
      "outputs": [
        {
          "output_type": "execute_result",
          "data": {
            "text/html": [
              "<div>\n",
              "<style scoped>\n",
              "    .dataframe tbody tr th:only-of-type {\n",
              "        vertical-align: middle;\n",
              "    }\n",
              "\n",
              "    .dataframe tbody tr th {\n",
              "        vertical-align: top;\n",
              "    }\n",
              "\n",
              "    .dataframe thead th {\n",
              "        text-align: right;\n",
              "    }\n",
              "</style>\n",
              "<table border=\"1\" class=\"dataframe\">\n",
              "  <thead>\n",
              "    <tr style=\"text-align: right;\">\n",
              "      <th></th>\n",
              "      <th>rental_id</th>\n",
              "      <th>building_id</th>\n",
              "      <th>rent</th>\n",
              "      <th>bedrooms</th>\n",
              "      <th>bathrooms</th>\n",
              "      <th>size_sqft</th>\n",
              "      <th>min_to_subway</th>\n",
              "      <th>floor</th>\n",
              "      <th>building_age_yrs</th>\n",
              "      <th>no_fee</th>\n",
              "      <th>has_roofdeck</th>\n",
              "      <th>has_washer_dryer</th>\n",
              "      <th>has_doorman</th>\n",
              "      <th>has_elevator</th>\n",
              "      <th>has_dishwasher</th>\n",
              "      <th>has_patio</th>\n",
              "      <th>has_gym</th>\n",
              "      <th>neighborhood</th>\n",
              "      <th>submarket</th>\n",
              "      <th>borough</th>\n",
              "    </tr>\n",
              "  </thead>\n",
              "  <tbody>\n",
              "    <tr>\n",
              "      <th>count</th>\n",
              "      <td>5000.000000</td>\n",
              "      <td>5.000000e+03</td>\n",
              "      <td>5000.000000</td>\n",
              "      <td>5000.000000</td>\n",
              "      <td>5000.000000</td>\n",
              "      <td>5000.000000</td>\n",
              "      <td>5000.000000</td>\n",
              "      <td>5000.000000</td>\n",
              "      <td>5000.000000</td>\n",
              "      <td>5000</td>\n",
              "      <td>5000</td>\n",
              "      <td>5000</td>\n",
              "      <td>5000</td>\n",
              "      <td>5000</td>\n",
              "      <td>5000</td>\n",
              "      <td>5000</td>\n",
              "      <td>5000</td>\n",
              "      <td>5000</td>\n",
              "      <td>5000</td>\n",
              "      <td>5000</td>\n",
              "    </tr>\n",
              "    <tr>\n",
              "      <th>unique</th>\n",
              "      <td>NaN</td>\n",
              "      <td>NaN</td>\n",
              "      <td>NaN</td>\n",
              "      <td>NaN</td>\n",
              "      <td>NaN</td>\n",
              "      <td>NaN</td>\n",
              "      <td>NaN</td>\n",
              "      <td>NaN</td>\n",
              "      <td>NaN</td>\n",
              "      <td>2</td>\n",
              "      <td>2</td>\n",
              "      <td>2</td>\n",
              "      <td>2</td>\n",
              "      <td>2</td>\n",
              "      <td>2</td>\n",
              "      <td>2</td>\n",
              "      <td>2</td>\n",
              "      <td>93</td>\n",
              "      <td>15</td>\n",
              "      <td>3</td>\n",
              "    </tr>\n",
              "    <tr>\n",
              "      <th>top</th>\n",
              "      <td>NaN</td>\n",
              "      <td>NaN</td>\n",
              "      <td>NaN</td>\n",
              "      <td>NaN</td>\n",
              "      <td>NaN</td>\n",
              "      <td>NaN</td>\n",
              "      <td>NaN</td>\n",
              "      <td>NaN</td>\n",
              "      <td>NaN</td>\n",
              "      <td>no</td>\n",
              "      <td>no</td>\n",
              "      <td>no</td>\n",
              "      <td>no</td>\n",
              "      <td>no</td>\n",
              "      <td>no</td>\n",
              "      <td>no</td>\n",
              "      <td>no</td>\n",
              "      <td>Upper West Side</td>\n",
              "      <td>All Downtown</td>\n",
              "      <td>Manhattan</td>\n",
              "    </tr>\n",
              "    <tr>\n",
              "      <th>freq</th>\n",
              "      <td>NaN</td>\n",
              "      <td>NaN</td>\n",
              "      <td>NaN</td>\n",
              "      <td>NaN</td>\n",
              "      <td>NaN</td>\n",
              "      <td>NaN</td>\n",
              "      <td>NaN</td>\n",
              "      <td>NaN</td>\n",
              "      <td>NaN</td>\n",
              "      <td>2852</td>\n",
              "      <td>4357</td>\n",
              "      <td>4331</td>\n",
              "      <td>3860</td>\n",
              "      <td>3800</td>\n",
              "      <td>4222</td>\n",
              "      <td>4772</td>\n",
              "      <td>4281</td>\n",
              "      <td>579</td>\n",
              "      <td>1229</td>\n",
              "      <td>3539</td>\n",
              "    </tr>\n",
              "    <tr>\n",
              "      <th>mean</th>\n",
              "      <td>5526.909400</td>\n",
              "      <td>5.122007e+07</td>\n",
              "      <td>4536.920800</td>\n",
              "      <td>1.395700</td>\n",
              "      <td>1.321600</td>\n",
              "      <td>920.101400</td>\n",
              "      <td>5.079200</td>\n",
              "      <td>10.190200</td>\n",
              "      <td>52.093200</td>\n",
              "      <td>NaN</td>\n",
              "      <td>NaN</td>\n",
              "      <td>NaN</td>\n",
              "      <td>NaN</td>\n",
              "      <td>NaN</td>\n",
              "      <td>NaN</td>\n",
              "      <td>NaN</td>\n",
              "      <td>NaN</td>\n",
              "      <td>NaN</td>\n",
              "      <td>NaN</td>\n",
              "      <td>NaN</td>\n",
              "    </tr>\n",
              "    <tr>\n",
              "      <th>std</th>\n",
              "      <td>3263.692417</td>\n",
              "      <td>2.802283e+07</td>\n",
              "      <td>2929.838953</td>\n",
              "      <td>0.961018</td>\n",
              "      <td>0.565542</td>\n",
              "      <td>440.150464</td>\n",
              "      <td>5.268897</td>\n",
              "      <td>10.565361</td>\n",
              "      <td>40.224501</td>\n",
              "      <td>NaN</td>\n",
              "      <td>NaN</td>\n",
              "      <td>NaN</td>\n",
              "      <td>NaN</td>\n",
              "      <td>NaN</td>\n",
              "      <td>NaN</td>\n",
              "      <td>NaN</td>\n",
              "      <td>NaN</td>\n",
              "      <td>NaN</td>\n",
              "      <td>NaN</td>\n",
              "      <td>NaN</td>\n",
              "    </tr>\n",
              "    <tr>\n",
              "      <th>min</th>\n",
              "      <td>1.000000</td>\n",
              "      <td>7.107000e+03</td>\n",
              "      <td>1250.000000</td>\n",
              "      <td>0.000000</td>\n",
              "      <td>0.000000</td>\n",
              "      <td>250.000000</td>\n",
              "      <td>0.000000</td>\n",
              "      <td>0.000000</td>\n",
              "      <td>0.000000</td>\n",
              "      <td>NaN</td>\n",
              "      <td>NaN</td>\n",
              "      <td>NaN</td>\n",
              "      <td>NaN</td>\n",
              "      <td>NaN</td>\n",
              "      <td>NaN</td>\n",
              "      <td>NaN</td>\n",
              "      <td>NaN</td>\n",
              "      <td>NaN</td>\n",
              "      <td>NaN</td>\n",
              "      <td>NaN</td>\n",
              "    </tr>\n",
              "    <tr>\n",
              "      <th>25%</th>\n",
              "      <td>2699.750000</td>\n",
              "      <td>2.699811e+07</td>\n",
              "      <td>2750.000000</td>\n",
              "      <td>1.000000</td>\n",
              "      <td>1.000000</td>\n",
              "      <td>633.000000</td>\n",
              "      <td>2.000000</td>\n",
              "      <td>3.000000</td>\n",
              "      <td>12.000000</td>\n",
              "      <td>NaN</td>\n",
              "      <td>NaN</td>\n",
              "      <td>NaN</td>\n",
              "      <td>NaN</td>\n",
              "      <td>NaN</td>\n",
              "      <td>NaN</td>\n",
              "      <td>NaN</td>\n",
              "      <td>NaN</td>\n",
              "      <td>NaN</td>\n",
              "      <td>NaN</td>\n",
              "      <td>NaN</td>\n",
              "    </tr>\n",
              "    <tr>\n",
              "      <th>50%</th>\n",
              "      <td>5456.500000</td>\n",
              "      <td>5.069894e+07</td>\n",
              "      <td>3600.000000</td>\n",
              "      <td>1.000000</td>\n",
              "      <td>1.000000</td>\n",
              "      <td>800.000000</td>\n",
              "      <td>4.000000</td>\n",
              "      <td>6.000000</td>\n",
              "      <td>44.000000</td>\n",
              "      <td>NaN</td>\n",
              "      <td>NaN</td>\n",
              "      <td>NaN</td>\n",
              "      <td>NaN</td>\n",
              "      <td>NaN</td>\n",
              "      <td>NaN</td>\n",
              "      <td>NaN</td>\n",
              "      <td>NaN</td>\n",
              "      <td>NaN</td>\n",
              "      <td>NaN</td>\n",
              "      <td>NaN</td>\n",
              "    </tr>\n",
              "    <tr>\n",
              "      <th>75%</th>\n",
              "      <td>8306.000000</td>\n",
              "      <td>7.572064e+07</td>\n",
              "      <td>5200.000000</td>\n",
              "      <td>2.000000</td>\n",
              "      <td>2.000000</td>\n",
              "      <td>1094.000000</td>\n",
              "      <td>6.000000</td>\n",
              "      <td>14.000000</td>\n",
              "      <td>89.000000</td>\n",
              "      <td>NaN</td>\n",
              "      <td>NaN</td>\n",
              "      <td>NaN</td>\n",
              "      <td>NaN</td>\n",
              "      <td>NaN</td>\n",
              "      <td>NaN</td>\n",
              "      <td>NaN</td>\n",
              "      <td>NaN</td>\n",
              "      <td>NaN</td>\n",
              "      <td>NaN</td>\n",
              "      <td>NaN</td>\n",
              "    </tr>\n",
              "    <tr>\n",
              "      <th>max</th>\n",
              "      <td>11349.000000</td>\n",
              "      <td>9.998721e+07</td>\n",
              "      <td>20000.000000</td>\n",
              "      <td>5.000000</td>\n",
              "      <td>5.000000</td>\n",
              "      <td>4800.000000</td>\n",
              "      <td>51.000000</td>\n",
              "      <td>83.000000</td>\n",
              "      <td>180.000000</td>\n",
              "      <td>NaN</td>\n",
              "      <td>NaN</td>\n",
              "      <td>NaN</td>\n",
              "      <td>NaN</td>\n",
              "      <td>NaN</td>\n",
              "      <td>NaN</td>\n",
              "      <td>NaN</td>\n",
              "      <td>NaN</td>\n",
              "      <td>NaN</td>\n",
              "      <td>NaN</td>\n",
              "      <td>NaN</td>\n",
              "    </tr>\n",
              "  </tbody>\n",
              "</table>\n",
              "</div>"
            ],
            "text/plain": [
              "           rental_id   building_id  ...     submarket    borough\n",
              "count    5000.000000  5.000000e+03  ...          5000       5000\n",
              "unique           NaN           NaN  ...            15          3\n",
              "top              NaN           NaN  ...  All Downtown  Manhattan\n",
              "freq             NaN           NaN  ...          1229       3539\n",
              "mean     5526.909400  5.122007e+07  ...           NaN        NaN\n",
              "std      3263.692417  2.802283e+07  ...           NaN        NaN\n",
              "min         1.000000  7.107000e+03  ...           NaN        NaN\n",
              "25%      2699.750000  2.699811e+07  ...           NaN        NaN\n",
              "50%      5456.500000  5.069894e+07  ...           NaN        NaN\n",
              "75%      8306.000000  7.572064e+07  ...           NaN        NaN\n",
              "max     11349.000000  9.998721e+07  ...           NaN        NaN\n",
              "\n",
              "[11 rows x 20 columns]"
            ]
          },
          "metadata": {},
          "execution_count": 105
        }
      ]
    },
    {
      "cell_type": "code",
      "metadata": {
        "colab": {
          "base_uri": "https://localhost:8080/"
        },
        "id": "GA6cQef2pG9B",
        "outputId": "073524f2-2920-4a88-8eae-23f1a6283de6"
      },
      "source": [
        "rentals.columns"
      ],
      "execution_count": 106,
      "outputs": [
        {
          "output_type": "execute_result",
          "data": {
            "text/plain": [
              "Index(['rental_id', 'building_id', 'rent', 'bedrooms', 'bathrooms',\n",
              "       'size_sqft', 'min_to_subway', 'floor', 'building_age_yrs', 'no_fee',\n",
              "       'has_roofdeck', 'has_washer_dryer', 'has_doorman', 'has_elevator',\n",
              "       'has_dishwasher', 'has_patio', 'has_gym', 'neighborhood', 'submarket',\n",
              "       'borough'],\n",
              "      dtype='object')"
            ]
          },
          "metadata": {},
          "execution_count": 106
        }
      ]
    },
    {
      "cell_type": "code",
      "metadata": {
        "colab": {
          "base_uri": "https://localhost:8080/"
        },
        "id": "J2lM8mRspYHC",
        "outputId": "9b4d8c70-b60a-4dd6-8d9d-cf71c8d1318c"
      },
      "source": [
        "rentals.shape"
      ],
      "execution_count": 107,
      "outputs": [
        {
          "output_type": "execute_result",
          "data": {
            "text/plain": [
              "(5000, 20)"
            ]
          },
          "metadata": {},
          "execution_count": 107
        }
      ]
    },
    {
      "cell_type": "code",
      "metadata": {
        "colab": {
          "base_uri": "https://localhost:8080/"
        },
        "id": "10hFUkbNpOVd",
        "outputId": "b72b969f-972f-487c-f34b-b8504281358e"
      },
      "source": [
        "rentals.isnull().any()"
      ],
      "execution_count": 108,
      "outputs": [
        {
          "output_type": "execute_result",
          "data": {
            "text/plain": [
              "rental_id           False\n",
              "building_id         False\n",
              "rent                False\n",
              "bedrooms            False\n",
              "bathrooms           False\n",
              "size_sqft           False\n",
              "min_to_subway       False\n",
              "floor               False\n",
              "building_age_yrs    False\n",
              "no_fee              False\n",
              "has_roofdeck        False\n",
              "has_washer_dryer    False\n",
              "has_doorman         False\n",
              "has_elevator        False\n",
              "has_dishwasher      False\n",
              "has_patio           False\n",
              "has_gym             False\n",
              "neighborhood        False\n",
              "submarket           False\n",
              "borough             False\n",
              "dtype: bool"
            ]
          },
          "metadata": {},
          "execution_count": 108
        }
      ]
    },
    {
      "cell_type": "code",
      "metadata": {
        "colab": {
          "base_uri": "https://localhost:8080/"
        },
        "id": "Ge5wv3fWpjmy",
        "outputId": "c52e2df7-d499-4f0e-ddf1-0cbb77fbe4fb"
      },
      "source": [
        "rentals.dtypes"
      ],
      "execution_count": 109,
      "outputs": [
        {
          "output_type": "execute_result",
          "data": {
            "text/plain": [
              "rental_id             int64\n",
              "building_id           int64\n",
              "rent                  int64\n",
              "bedrooms            float64\n",
              "bathrooms             int64\n",
              "size_sqft             int64\n",
              "min_to_subway         int64\n",
              "floor               float64\n",
              "building_age_yrs      int64\n",
              "no_fee               object\n",
              "has_roofdeck         object\n",
              "has_washer_dryer     object\n",
              "has_doorman          object\n",
              "has_elevator         object\n",
              "has_dishwasher       object\n",
              "has_patio            object\n",
              "has_gym              object\n",
              "neighborhood         object\n",
              "submarket            object\n",
              "borough              object\n",
              "dtype: object"
            ]
          },
          "metadata": {},
          "execution_count": 109
        }
      ]
    },
    {
      "cell_type": "markdown",
      "metadata": {
        "id": "fP1HCceGjvp4"
      },
      "source": [
        "## Univariate (one variable)"
      ]
    },
    {
      "cell_type": "markdown",
      "metadata": {
        "id": "H14MbR49jvp6"
      },
      "source": [
        "### Quantitative"
      ]
    },
    {
      "cell_type": "markdown",
      "metadata": {
        "id": "PFT7kM1NeqmG"
      },
      "source": [
        "# Rent"
      ]
    },
    {
      "cell_type": "markdown",
      "metadata": {
        "id": "WG5lZ1xzuwui"
      },
      "source": [
        "Exploring the rent value:\n",
        "\n",
        "\n",
        "1.   mean/average\n",
        "2.   median\n",
        "3. comparing rent mean and median for probable skeweness/outliers\n",
        "4. mode (not accurate describtive statistic, since rent can have totally different values)\n",
        "\n"
      ]
    },
    {
      "cell_type": "code",
      "metadata": {
        "colab": {
          "base_uri": "https://localhost:8080/"
        },
        "id": "1HEUVnXDpNCc",
        "outputId": "f919c06f-3f84-434f-9214-b8ca605f2916"
      },
      "source": [
        "rent_mean = np.mean(rentals.rent)\n",
        "print(rent_mean)"
      ],
      "execution_count": 110,
      "outputs": [
        {
          "output_type": "stream",
          "name": "stdout",
          "text": [
            "4536.9208\n"
          ]
        }
      ]
    },
    {
      "cell_type": "code",
      "metadata": {
        "colab": {
          "base_uri": "https://localhost:8080/"
        },
        "id": "hQ89DeEuwJ8Z",
        "outputId": "e1cc710f-d96a-4e2e-e9ba-075a433d2904"
      },
      "source": [
        "rent_median = np.median(rentals.rent)\n",
        "print(rent_median)"
      ],
      "execution_count": 111,
      "outputs": [
        {
          "output_type": "stream",
          "name": "stdout",
          "text": [
            "3600.0\n"
          ]
        }
      ]
    },
    {
      "cell_type": "markdown",
      "metadata": {
        "id": "MIc_Da00wViX"
      },
      "source": [
        "The median (3600) is less than the mean (4536), which could indicate a possible right-side skeweness or outliers\n",
        "\n",
        "> Trimming 10% of both sides of the data - leaving 80% - to examine the effect of outliers.\n",
        "\n"
      ]
    },
    {
      "cell_type": "code",
      "metadata": {
        "colab": {
          "base_uri": "https://localhost:8080/"
        },
        "id": "oT0ko2IdwUbF",
        "outputId": "d94594d8-a689-4a77-fee6-4a39f51d9e39"
      },
      "source": [
        "import scipy.stats as stat\n",
        "stat.trim_mean(rentals.rent, 0.1)"
      ],
      "execution_count": 112,
      "outputs": [
        {
          "output_type": "execute_result",
          "data": {
            "text/plain": [
              "3980.253"
            ]
          },
          "metadata": {},
          "execution_count": 112
        }
      ]
    },
    {
      "cell_type": "code",
      "metadata": {
        "colab": {
          "base_uri": "https://localhost:8080/"
        },
        "id": "OWTsVl3KxawN",
        "outputId": "9a667357-7d23-4edf-8907-097fa9f9c112"
      },
      "source": [
        "# for quantitive data, it is a better practice to report range of values for mode\n",
        "# another way to get the mode is: rentals.rent.value_counts().head(1)\n",
        "rent_mode = stat.mode(rentals.rent)\n",
        "print('Mode or most common rent price is', str(rent_mode[0][0]), 'it appeared', str(rent_mode[1][0]), 'times')"
      ],
      "execution_count": 113,
      "outputs": [
        {
          "output_type": "stream",
          "name": "stdout",
          "text": [
            "Mode or most common rent price is 3500 it appeared 102 times\n"
          ]
        }
      ]
    },
    {
      "cell_type": "code",
      "metadata": {
        "colab": {
          "base_uri": "https://localhost:8080/"
        },
        "id": "tsZJeu3GClnd",
        "outputId": "affec079-3209-4be7-f8d9-f16f42cb6c9a"
      },
      "source": [
        "rent_minimum = np.min(rentals.rent)\n",
        "rent_maximum = np.max(rentals.rent)\n",
        "print('minimum rent price is', rent_minimum , 'and maximum is', rent_maximum)\n",
        "print('range is', rent_maximum-rent_minimum)\n",
        "rent_iqr = stat.iqr(rentals.rent)\n",
        "print(rent_iqr)"
      ],
      "execution_count": 114,
      "outputs": [
        {
          "output_type": "stream",
          "name": "stdout",
          "text": [
            "minimum rent price is 1250 and maximum is 20000\n",
            "range is 18750\n",
            "2450.0\n"
          ]
        }
      ]
    },
    {
      "cell_type": "markdown",
      "metadata": {
        "id": "nOt3vl9CDwdk"
      },
      "source": [
        "The range of rent prices is 18,750 from 1250 to 20,000. To dimiss the impact of outliers on range, we can get the interquartile range (IQR) or where 50% of data falls. In this example, 50% of rent prices has a range of 2450 from 2750 (Q1-25%) to 5200 (Q3-75%)."
      ]
    },
    {
      "cell_type": "markdown",
      "metadata": {
        "id": "yuwllaTVBSat"
      },
      "source": [
        "# Histograms of Rent"
      ]
    },
    {
      "cell_type": "markdown",
      "metadata": {
        "id": "La4KMbONBEHg"
      },
      "source": [
        "Using matplotlib (plt.hist) and seaborn (sns.histplot) to plot a histogram of rent"
      ]
    },
    {
      "cell_type": "code",
      "metadata": {
        "colab": {
          "base_uri": "https://localhost:8080/",
          "height": 332
        },
        "id": "mYfyBDZF0XTV",
        "outputId": "140176d8-3d95-4349-eae9-0da0b6146aa2"
      },
      "source": [
        "f, (ax1, ax2) = plt.subplots(1, 2, figsize=(17,5))\n",
        "\n",
        "ax1.hist(rentals.rent, bins= 100, edgecolor= 'black')\n",
        "ax1.axvline(x = rent_mean, color = 'r', label= 'mean')\n",
        "ax1.axvline(x= rent_median, color= 'g', label= 'median')\n",
        "ax1.set(xlabel= 'rent', ylabel= 'count')\n",
        "ax1.legend()\n",
        "\n",
        "ax2 = sns.histplot(rentals.rent, kde= False)\n",
        "ax2.axvline(x= rent_mean, color= 'r', label = 'mean')\n",
        "ax2.axvline(x= rent_median, color= 'g', label = 'median')\n",
        "ax2.legend()\n",
        "\n",
        "plt.subplots_adjust(hspace= 0.8)\n",
        "plt.show()"
      ],
      "execution_count": 115,
      "outputs": [
        {
          "output_type": "display_data",
          "data": {
            "image/png": "[encoded data removed]",
            "text/plain": [
              "<Figure size 1224x360 with 2 Axes>"
            ]
          },
          "metadata": {
            "needs_background": "light"
          }
        }
      ]
    },
    {
      "cell_type": "code",
      "metadata": {
        "colab": {
          "base_uri": "https://localhost:8080/",
          "height": 378
        },
        "id": "vmQQdUuFoWi6",
        "outputId": "cb2ea8d5-9d3d-4437-b354-57da2fea31d5"
      },
      "source": [
        "# use this line of code to extract bins values for the next line of code\n",
        "plt.hist(rentals.rent, bins= 20)"
      ],
      "execution_count": 116,
      "outputs": [
        {
          "output_type": "execute_result",
          "data": {
            "text/plain": [
              "(array([ 497., 1282., 1279.,  606.,  345.,  272.,  183.,  112.,   85.,\n",
              "          76.,   55.,   31.,   37.,   35.,   40.,   14.,   14.,   18.,\n",
              "           8.,   11.]),\n",
              " array([ 1250. ,  2187.5,  3125. ,  4062.5,  5000. ,  5937.5,  6875. ,\n",
              "         7812.5,  8750. ,  9687.5, 10625. , 11562.5, 12500. , 13437.5,\n",
              "        14375. , 15312.5, 16250. , 17187.5, 18125. , 19062.5, 20000. ]),\n",
              " <a list of 20 Patch objects>)"
            ]
          },
          "metadata": {},
          "execution_count": 116
        },
        {
          "output_type": "display_data",
          "data": {
            "image/png": "[encoded data removed]",
            "text/plain": [
              "<Figure size 432x288 with 1 Axes>"
            ]
          },
          "metadata": {
            "needs_background": "light"
          }
        }
      ]
    },
    {
      "cell_type": "code",
      "metadata": {
        "colab": {
          "base_uri": "https://localhost:8080/"
        },
        "id": "v9vUxlc0nTqZ",
        "outputId": "7a144bd1-459c-4506-cf5e-36653fe6445c"
      },
      "source": [
        "# to get the conts in each bin, use the line of code below\n",
        "rentals.rent.value_counts(bins= [1250, 2187.5, 3125, 4062.5, 5000, 5937.5, 6875, 7812.5, 8750, 9687.5, 10625, 11562.5, 12500, 13437.5, 14375, 15312.5, 16250, 17187.5, 18125, 19062.5, 20000]).sort_index()"
      ],
      "execution_count": 117,
      "outputs": [
        {
          "output_type": "execute_result",
          "data": {
            "text/plain": [
              "(1249.999, 2187.5]     497\n",
              "(2187.5, 3125.0]      1290\n",
              "(3125.0, 4062.5]      1271\n",
              "(4062.5, 5000.0]       642\n",
              "(5000.0, 5937.5]       309\n",
              "(5937.5, 6875.0]       273\n",
              "(6875.0, 7812.5]       182\n",
              "(7812.5, 8750.0]       116\n",
              "(8750.0, 9687.5]        81\n",
              "(9687.5, 10625.0]       76\n",
              "(10625.0, 11562.5]      55\n",
              "(11562.5, 12500.0]      51\n",
              "(12500.0, 13437.5]      17\n",
              "(13437.5, 14375.0]      35\n",
              "(14375.0, 15312.5]      40\n",
              "(15312.5, 16250.0]      14\n",
              "(16250.0, 17187.5]      14\n",
              "(17187.5, 18125.0]      18\n",
              "(18125.0, 19062.5]       8\n",
              "(19062.5, 20000.0]      11\n",
              "Name: rent, dtype: int64"
            ]
          },
          "metadata": {},
          "execution_count": 117
        }
      ]
    },
    {
      "cell_type": "markdown",
      "metadata": {
        "id": "Vetvqs0448lR"
      },
      "source": [
        "By plotting a histogram of rent (to check distribution of data)\n",
        "\n",
        "> when using 20 bins: we notice that 1290 rent prices fall in the 2nd bin (2187.5 - 3125) followed by 1271 rent prices in the 3rd bin (3125 - 4062.5)\n",
        "\n",
        "> the area below the median (50%) = the area above the median (50%), clearer to visualize when bins = 100\n",
        "\n",
        "\n",
        "\n"
      ]
    },
    {
      "cell_type": "markdown",
      "metadata": {
        "id": "BrgJXmY5ZwTH"
      },
      "source": [
        "To visualize Interquartile range (50% of rent data)"
      ]
    },
    {
      "cell_type": "code",
      "metadata": {
        "colab": {
          "base_uri": "https://localhost:8080/",
          "height": 462
        },
        "id": "BWgrq_4rWqul",
        "outputId": "c236c2fe-edd7-46d0-afe1-686a97593326"
      },
      "source": [
        "plt.figure(figsize=(15,7))\n",
        "plt.hist(rentals.rent, bins= 100, color= 'y', edgecolor= 'white')\n",
        "\n",
        "q1, q2, q3 = np.quantile(rentals.rent, 0.25), np.quantile(rentals.rent, 0.50), np.quantile(rentals.rent, 0.75)\n",
        "\n",
        "plt.axvline(x= q1, color= 'g', label= 'Q1')\n",
        "plt.axvline(x= q2, color= 'purple', label= 'Q2/median')\n",
        "plt.axvline(x= q3, color= 'g', label= 'Q3')\n",
        "plt.axvline(x= rent_mean, color= 'r', label= 'mean')\n",
        "plt.axvspan(xmin= q1, xmax= q3 , color= 'g' , alpha= 0.2, label= 'IQR')\n",
        "\n",
        "plt.title('Histogram of rent with respect to IQR', fontsize= 15)\n",
        "plt.xlabel('rent', fontsize= 12)\n",
        "plt.ylabel('count', fontsize= 12)\n",
        "\n",
        "plt.legend()\n",
        "plt.show()"
      ],
      "execution_count": 118,
      "outputs": [
        {
          "output_type": "display_data",
          "data": {
            "image/png": "[encoded data removed]",
            "text/plain": [
              "<Figure size 1080x504 with 1 Axes>"
            ]
          },
          "metadata": {
            "needs_background": "light"
          }
        }
      ]
    },
    {
      "cell_type": "code",
      "metadata": {
        "colab": {
          "base_uri": "https://localhost:8080/",
          "height": 368
        },
        "id": "Jgkm45nkfIpG",
        "outputId": "88b7cbe7-4257-4e24-9d9e-ca8971540062"
      },
      "source": [
        "# Boxplot of rent using matplotlib and seaborn\n",
        "\n",
        "f , (ax1, ax2) = plt.subplots(1 , 2, figsize=(13, 5))\n",
        "\n",
        "ax1.boxplot(rentals.rent)\n",
        "ax1.set_xticklabels(['rent'])\n",
        "ax2 = sns.boxplot(x = rentals.rent, color = 'orange')\n",
        "\n",
        "plt.tight_layout()\n",
        "plt.show()"
      ],
      "execution_count": 119,
      "outputs": [
        {
          "output_type": "display_data",
          "data": {
            "image/png": "[encoded data removed]",
            "text/plain": [
              "<Figure size 936x360 with 2 Axes>"
            ]
          },
          "metadata": {
            "needs_background": "light"
          }
        }
      ]
    },
    {
      "cell_type": "markdown",
      "metadata": {
        "id": "rz6sAwdkwgMn"
      },
      "source": [
        "# Building Age"
      ]
    },
    {
      "cell_type": "code",
      "metadata": {
        "colab": {
          "base_uri": "https://localhost:8080/",
          "height": 278
        },
        "id": "DzXm-n-rOno-",
        "outputId": "915a4fae-6aae-4ebf-d0a0-a15acc367ef6"
      },
      "source": [
        "sns.histplot(rentals.building_age_yrs)\n",
        "plt.axvline(x= np.mean(rentals.building_age_yrs), color= 'r', label= 'mean')\n",
        "plt.axvline(x= np.median(rentals.building_age_yrs), color= 'b', label= 'median')\n",
        "plt.legend()\n",
        "\n",
        "plt.show()"
      ],
      "execution_count": 120,
      "outputs": [
        {
          "output_type": "display_data",
          "data": {
            "image/png": "[encoded data removed]",
            "text/plain": [
              "<Figure size 432x288 with 1 Axes>"
            ]
          },
          "metadata": {
            "needs_background": "light"
          }
        }
      ]
    },
    {
      "cell_type": "code",
      "metadata": {
        "colab": {
          "base_uri": "https://localhost:8080/"
        },
        "id": "KTlegBAyPjlj",
        "outputId": "23d782ea-3ef7-4c35-87ab-b6e3783645b0"
      },
      "source": [
        "building_age_min = np.min(rentals.building_age_yrs)\n",
        "building_age_max = np.max(rentals.building_age_yrs)\n",
        "print('The most modern building is', building_age_min, 'years and the oldest is', building_age_max, 'years')"
      ],
      "execution_count": 121,
      "outputs": [
        {
          "output_type": "stream",
          "name": "stdout",
          "text": [
            "The most modern building is 0 years and the oldest is 180 years\n"
          ]
        }
      ]
    },
    {
      "cell_type": "markdown",
      "metadata": {
        "id": "WvCOtnGpkE9s"
      },
      "source": [
        "To investigate the data even more"
      ]
    },
    {
      "cell_type": "code",
      "metadata": {
        "colab": {
          "base_uri": "https://localhost:8080/",
          "height": 345
        },
        "id": "UTovTf17jXDh",
        "outputId": "0c232f13-8e68-4dfa-e3f8-7fe42fb8f5a4"
      },
      "source": [
        "# to get the bin values for the next line of code\n",
        "plt.hist(rentals.building_age_yrs, bins= 20, edgecolor= 'black')"
      ],
      "execution_count": 122,
      "outputs": [
        {
          "output_type": "execute_result",
          "data": {
            "text/plain": [
              "(array([818., 844., 148., 491., 219., 236., 255.,  67., 101., 596., 386.,\n",
              "        413., 361.,  35.,   9.,   5.,   3.,   3.,   0.,  10.]),\n",
              " array([  0.,   9.,  18.,  27.,  36.,  45.,  54.,  63.,  72.,  81.,  90.,\n",
              "         99., 108., 117., 126., 135., 144., 153., 162., 171., 180.]),\n",
              " <a list of 20 Patch objects>)"
            ]
          },
          "metadata": {},
          "execution_count": 122
        },
        {
          "output_type": "display_data",
          "data": {
            "image/png": "[encoded data removed]",
            "text/plain": [
              "<Figure size 432x288 with 1 Axes>"
            ]
          },
          "metadata": {
            "needs_background": "light"
          }
        }
      ]
    },
    {
      "cell_type": "code",
      "metadata": {
        "colab": {
          "base_uri": "https://localhost:8080/"
        },
        "id": "OqIfVKAGlEBJ",
        "outputId": "567dc7d2-3f1b-4f35-8d7c-220c9be53263"
      },
      "source": [
        "# to find the counts in each bin\n",
        "rentals.building_age_yrs.value_counts(bins= [0, 9, 18, 27, 36, 45, 54, 63, 72, 81, 90, 99, 108, 117, 126, 135, 144, 153, 162, 171, 180]).sort_index()"
      ],
      "execution_count": 123,
      "outputs": [
        {
          "output_type": "execute_result",
          "data": {
            "text/plain": [
              "(-0.001, 9.0]     995\n",
              "(9.0, 18.0]       702\n",
              "(18.0, 27.0]      163\n",
              "(27.0, 36.0]      455\n",
              "(36.0, 45.0]      207\n",
              "(45.0, 54.0]      267\n",
              "(54.0, 63.0]      223\n",
              "(63.0, 72.0]       66\n",
              "(72.0, 81.0]      112\n",
              "(81.0, 90.0]      636\n",
              "(90.0, 99.0]      345\n",
              "(99.0, 108.0]     421\n",
              "(108.0, 117.0]    359\n",
              "(117.0, 126.0]     25\n",
              "(126.0, 135.0]      3\n",
              "(135.0, 144.0]      5\n",
              "(144.0, 153.0]      3\n",
              "(153.0, 162.0]      3\n",
              "(162.0, 171.0]      0\n",
              "(171.0, 180.0]     10\n",
              "Name: building_age_yrs, dtype: int64"
            ]
          },
          "metadata": {},
          "execution_count": 123
        }
      ]
    },
    {
      "cell_type": "code",
      "metadata": {
        "colab": {
          "base_uri": "https://localhost:8080/",
          "height": 580
        },
        "id": "zsb3oMupmtWJ",
        "outputId": "727fa3df-0d8f-46f9-8fe9-caead6d096b3"
      },
      "source": [
        "# to confirm the count we got in the line above. check the count of buildings that are 9 years or less (counts of the 1st bin) that are offered for renting\n",
        "# output has 995 rows/enteries\n",
        "# also, can use: rentals[rentals.building_age_yrs <= 9].shape\n",
        "rentals[rentals.building_age_yrs <= 9]"
      ],
      "execution_count": 124,
      "outputs": [
        {
          "output_type": "execute_result",
          "data": {
            "text/html": [
              "<div>\n",
              "<style scoped>\n",
              "    .dataframe tbody tr th:only-of-type {\n",
              "        vertical-align: middle;\n",
              "    }\n",
              "\n",
              "    .dataframe tbody tr th {\n",
              "        vertical-align: top;\n",
              "    }\n",
              "\n",
              "    .dataframe thead th {\n",
              "        text-align: right;\n",
              "    }\n",
              "</style>\n",
              "<table border=\"1\" class=\"dataframe\">\n",
              "  <thead>\n",
              "    <tr style=\"text-align: right;\">\n",
              "      <th></th>\n",
              "      <th>rental_id</th>\n",
              "      <th>building_id</th>\n",
              "      <th>rent</th>\n",
              "      <th>bedrooms</th>\n",
              "      <th>bathrooms</th>\n",
              "      <th>size_sqft</th>\n",
              "      <th>min_to_subway</th>\n",
              "      <th>floor</th>\n",
              "      <th>building_age_yrs</th>\n",
              "      <th>no_fee</th>\n",
              "      <th>has_roofdeck</th>\n",
              "      <th>has_washer_dryer</th>\n",
              "      <th>has_doorman</th>\n",
              "      <th>has_elevator</th>\n",
              "      <th>has_dishwasher</th>\n",
              "      <th>has_patio</th>\n",
              "      <th>has_gym</th>\n",
              "      <th>neighborhood</th>\n",
              "      <th>submarket</th>\n",
              "      <th>borough</th>\n",
              "    </tr>\n",
              "  </thead>\n",
              "  <tbody>\n",
              "    <tr>\n",
              "      <th>8</th>\n",
              "      <td>5465</td>\n",
              "      <td>73060494</td>\n",
              "      <td>3500</td>\n",
              "      <td>1.0</td>\n",
              "      <td>1</td>\n",
              "      <td>996</td>\n",
              "      <td>9</td>\n",
              "      <td>7.0</td>\n",
              "      <td>3</td>\n",
              "      <td>yes</td>\n",
              "      <td>no</td>\n",
              "      <td>no</td>\n",
              "      <td>no</td>\n",
              "      <td>no</td>\n",
              "      <td>no</td>\n",
              "      <td>no</td>\n",
              "      <td>no</td>\n",
              "      <td>Astoria</td>\n",
              "      <td>Northwest Queens</td>\n",
              "      <td>Queens</td>\n",
              "    </tr>\n",
              "    <tr>\n",
              "      <th>10</th>\n",
              "      <td>4318</td>\n",
              "      <td>57792653</td>\n",
              "      <td>3900</td>\n",
              "      <td>3.0</td>\n",
              "      <td>2</td>\n",
              "      <td>1000</td>\n",
              "      <td>4</td>\n",
              "      <td>9.0</td>\n",
              "      <td>8</td>\n",
              "      <td>no</td>\n",
              "      <td>no</td>\n",
              "      <td>no</td>\n",
              "      <td>no</td>\n",
              "      <td>yes</td>\n",
              "      <td>no</td>\n",
              "      <td>no</td>\n",
              "      <td>no</td>\n",
              "      <td>Greenwood</td>\n",
              "      <td>South Brooklyn</td>\n",
              "      <td>Brooklyn</td>\n",
              "    </tr>\n",
              "    <tr>\n",
              "      <th>14</th>\n",
              "      <td>9507</td>\n",
              "      <td>84137202</td>\n",
              "      <td>15000</td>\n",
              "      <td>2.0</td>\n",
              "      <td>2</td>\n",
              "      <td>1715</td>\n",
              "      <td>0</td>\n",
              "      <td>30.0</td>\n",
              "      <td>2</td>\n",
              "      <td>no</td>\n",
              "      <td>no</td>\n",
              "      <td>no</td>\n",
              "      <td>no</td>\n",
              "      <td>no</td>\n",
              "      <td>no</td>\n",
              "      <td>no</td>\n",
              "      <td>no</td>\n",
              "      <td>Flatiron</td>\n",
              "      <td>All Downtown</td>\n",
              "      <td>Manhattan</td>\n",
              "    </tr>\n",
              "    <tr>\n",
              "      <th>25</th>\n",
              "      <td>9736</td>\n",
              "      <td>5154242</td>\n",
              "      <td>1700</td>\n",
              "      <td>1.0</td>\n",
              "      <td>1</td>\n",
              "      <td>730</td>\n",
              "      <td>10</td>\n",
              "      <td>3.0</td>\n",
              "      <td>7</td>\n",
              "      <td>no</td>\n",
              "      <td>no</td>\n",
              "      <td>no</td>\n",
              "      <td>no</td>\n",
              "      <td>no</td>\n",
              "      <td>no</td>\n",
              "      <td>no</td>\n",
              "      <td>no</td>\n",
              "      <td>Briarwood</td>\n",
              "      <td>Northeast Queens</td>\n",
              "      <td>Queens</td>\n",
              "    </tr>\n",
              "    <tr>\n",
              "      <th>33</th>\n",
              "      <td>849</td>\n",
              "      <td>26340900</td>\n",
              "      <td>2750</td>\n",
              "      <td>1.0</td>\n",
              "      <td>1</td>\n",
              "      <td>700</td>\n",
              "      <td>12</td>\n",
              "      <td>3.0</td>\n",
              "      <td>9</td>\n",
              "      <td>yes</td>\n",
              "      <td>no</td>\n",
              "      <td>no</td>\n",
              "      <td>no</td>\n",
              "      <td>no</td>\n",
              "      <td>no</td>\n",
              "      <td>no</td>\n",
              "      <td>no</td>\n",
              "      <td>Clinton Hill</td>\n",
              "      <td>Northwest Brooklyn</td>\n",
              "      <td>Brooklyn</td>\n",
              "    </tr>\n",
              "    <tr>\n",
              "      <th>...</th>\n",
              "      <td>...</td>\n",
              "      <td>...</td>\n",
              "      <td>...</td>\n",
              "      <td>...</td>\n",
              "      <td>...</td>\n",
              "      <td>...</td>\n",
              "      <td>...</td>\n",
              "      <td>...</td>\n",
              "      <td>...</td>\n",
              "      <td>...</td>\n",
              "      <td>...</td>\n",
              "      <td>...</td>\n",
              "      <td>...</td>\n",
              "      <td>...</td>\n",
              "      <td>...</td>\n",
              "      <td>...</td>\n",
              "      <td>...</td>\n",
              "      <td>...</td>\n",
              "      <td>...</td>\n",
              "      <td>...</td>\n",
              "    </tr>\n",
              "    <tr>\n",
              "      <th>4983</th>\n",
              "      <td>1721</td>\n",
              "      <td>93684714</td>\n",
              "      <td>4200</td>\n",
              "      <td>2.0</td>\n",
              "      <td>2</td>\n",
              "      <td>977</td>\n",
              "      <td>1</td>\n",
              "      <td>5.0</td>\n",
              "      <td>5</td>\n",
              "      <td>yes</td>\n",
              "      <td>no</td>\n",
              "      <td>no</td>\n",
              "      <td>no</td>\n",
              "      <td>no</td>\n",
              "      <td>no</td>\n",
              "      <td>no</td>\n",
              "      <td>no</td>\n",
              "      <td>Downtown Brooklyn</td>\n",
              "      <td>Northwest Brooklyn</td>\n",
              "      <td>Brooklyn</td>\n",
              "    </tr>\n",
              "    <tr>\n",
              "      <th>4984</th>\n",
              "      <td>10787</td>\n",
              "      <td>89197252</td>\n",
              "      <td>3800</td>\n",
              "      <td>1.0</td>\n",
              "      <td>1</td>\n",
              "      <td>615</td>\n",
              "      <td>2</td>\n",
              "      <td>25.0</td>\n",
              "      <td>9</td>\n",
              "      <td>no</td>\n",
              "      <td>no</td>\n",
              "      <td>no</td>\n",
              "      <td>no</td>\n",
              "      <td>no</td>\n",
              "      <td>no</td>\n",
              "      <td>no</td>\n",
              "      <td>no</td>\n",
              "      <td>Midtown West</td>\n",
              "      <td>All Midtown</td>\n",
              "      <td>Manhattan</td>\n",
              "    </tr>\n",
              "    <tr>\n",
              "      <th>4995</th>\n",
              "      <td>1964</td>\n",
              "      <td>73060494</td>\n",
              "      <td>2650</td>\n",
              "      <td>1.0</td>\n",
              "      <td>1</td>\n",
              "      <td>686</td>\n",
              "      <td>9</td>\n",
              "      <td>4.0</td>\n",
              "      <td>3</td>\n",
              "      <td>yes</td>\n",
              "      <td>no</td>\n",
              "      <td>no</td>\n",
              "      <td>no</td>\n",
              "      <td>no</td>\n",
              "      <td>no</td>\n",
              "      <td>no</td>\n",
              "      <td>no</td>\n",
              "      <td>Astoria</td>\n",
              "      <td>Northwest Queens</td>\n",
              "      <td>Queens</td>\n",
              "    </tr>\n",
              "    <tr>\n",
              "      <th>4996</th>\n",
              "      <td>5686</td>\n",
              "      <td>92994390</td>\n",
              "      <td>6675</td>\n",
              "      <td>2.0</td>\n",
              "      <td>2</td>\n",
              "      <td>988</td>\n",
              "      <td>5</td>\n",
              "      <td>10.0</td>\n",
              "      <td>9</td>\n",
              "      <td>yes</td>\n",
              "      <td>yes</td>\n",
              "      <td>yes</td>\n",
              "      <td>yes</td>\n",
              "      <td>yes</td>\n",
              "      <td>yes</td>\n",
              "      <td>no</td>\n",
              "      <td>yes</td>\n",
              "      <td>Tribeca</td>\n",
              "      <td>All Downtown</td>\n",
              "      <td>Manhattan</td>\n",
              "    </tr>\n",
              "    <tr>\n",
              "      <th>4999</th>\n",
              "      <td>4718</td>\n",
              "      <td>67659586</td>\n",
              "      <td>4500</td>\n",
              "      <td>1.0</td>\n",
              "      <td>1</td>\n",
              "      <td>816</td>\n",
              "      <td>4</td>\n",
              "      <td>11.0</td>\n",
              "      <td>9</td>\n",
              "      <td>no</td>\n",
              "      <td>yes</td>\n",
              "      <td>yes</td>\n",
              "      <td>yes</td>\n",
              "      <td>yes</td>\n",
              "      <td>no</td>\n",
              "      <td>yes</td>\n",
              "      <td>yes</td>\n",
              "      <td>Tribeca</td>\n",
              "      <td>All Downtown</td>\n",
              "      <td>Manhattan</td>\n",
              "    </tr>\n",
              "  </tbody>\n",
              "</table>\n",
              "<p>995 rows × 20 columns</p>\n",
              "</div>"
            ],
            "text/plain": [
              "      rental_id  building_id  ...           submarket    borough\n",
              "8          5465     73060494  ...    Northwest Queens     Queens\n",
              "10         4318     57792653  ...      South Brooklyn   Brooklyn\n",
              "14         9507     84137202  ...        All Downtown  Manhattan\n",
              "25         9736      5154242  ...    Northeast Queens     Queens\n",
              "33          849     26340900  ...  Northwest Brooklyn   Brooklyn\n",
              "...         ...          ...  ...                 ...        ...\n",
              "4983       1721     93684714  ...  Northwest Brooklyn   Brooklyn\n",
              "4984      10787     89197252  ...         All Midtown  Manhattan\n",
              "4995       1964     73060494  ...    Northwest Queens     Queens\n",
              "4996       5686     92994390  ...        All Downtown  Manhattan\n",
              "4999       4718     67659586  ...        All Downtown  Manhattan\n",
              "\n",
              "[995 rows x 20 columns]"
            ]
          },
          "metadata": {},
          "execution_count": 124
        }
      ]
    },
    {
      "cell_type": "code",
      "metadata": {
        "colab": {
          "base_uri": "https://localhost:8080/"
        },
        "id": "i_kyn3fRvcgY",
        "outputId": "a783224e-06dd-4f7c-a098-d7341ed64fb3"
      },
      "source": [
        "rentals[rentals.building_age_yrs == 0]['borough'].value_counts(normalize= True)"
      ],
      "execution_count": 125,
      "outputs": [
        {
          "output_type": "execute_result",
          "data": {
            "text/plain": [
              "Queens       0.478261\n",
              "Manhattan    0.405797\n",
              "Brooklyn     0.115942\n",
              "Name: borough, dtype: float64"
            ]
          },
          "metadata": {},
          "execution_count": 125
        }
      ]
    },
    {
      "cell_type": "code",
      "metadata": {
        "colab": {
          "base_uri": "https://localhost:8080/"
        },
        "id": "TmZKoWQXwOOz",
        "outputId": "d9443cf5-9186-42e5-972f-a7c054db13ba"
      },
      "source": [
        "rentals[rentals.building_age_yrs == 180]['neighborhood'].value_counts(normalize= True)"
      ],
      "execution_count": 126,
      "outputs": [
        {
          "output_type": "execute_result",
          "data": {
            "text/plain": [
              "Financial District    0.888889\n",
              "West Village          0.111111\n",
              "Name: neighborhood, dtype: float64"
            ]
          },
          "metadata": {},
          "execution_count": 126
        }
      ]
    },
    {
      "cell_type": "markdown",
      "metadata": {
        "id": "XGToyjswr7g-"
      },
      "source": [
        "The average building age offered for renting is 52 years, with:\n",
        "\n",
        ">  995 buildings that are 9 years or less\n",
        "\n",
        "\n",
        "> 69 new buildings (less than year old): 47.8% of them are in Queens, 40.6% in Manhattan and 11.6% in Brooklyn.\n",
        "\n",
        "\n",
        "> The rentals also offer some old buildings that are 100 and above years old. There are 829 buildings that are >= 100 years old. Nine offered buildings are 180 years old, all located in Manhattan with most of them (88.8%) in Financial District.\n",
        "\n"
      ]
    },
    {
      "cell_type": "markdown",
      "metadata": {
        "id": "8zIZYfIW1Gk_"
      },
      "source": [
        "# Minutes to Subway"
      ]
    },
    {
      "cell_type": "code",
      "metadata": {
        "colab": {
          "base_uri": "https://localhost:8080/",
          "height": 282
        },
        "id": "PmQdRNskwsya",
        "outputId": "b52eb58b-d846-49fc-f4ca-78f8c45b909d"
      },
      "source": [
        "sns.histplot(rentals.min_to_subway)\n",
        "plt.show()"
      ],
      "execution_count": 127,
      "outputs": [
        {
          "output_type": "display_data",
          "data": {
            "image/png": "[encoded data removed]",
            "text/plain": [
              "<Figure size 432x288 with 1 Axes>"
            ]
          },
          "metadata": {
            "needs_background": "light"
          }
        }
      ]
    },
    {
      "cell_type": "code",
      "metadata": {
        "colab": {
          "base_uri": "https://localhost:8080/"
        },
        "id": "ycMExkQExRi4",
        "outputId": "036c8035-5e22-4f83-bdda-7a9ee7c1b61f"
      },
      "source": [
        "rentals.min_to_subway.value_counts().sort_index()"
      ],
      "execution_count": 128,
      "outputs": [
        {
          "output_type": "execute_result",
          "data": {
            "text/plain": [
              "0      45\n",
              "1     520\n",
              "2     955\n",
              "3     774\n",
              "4     597\n",
              "5     482\n",
              "6     438\n",
              "7     294\n",
              "8     217\n",
              "9     181\n",
              "10    164\n",
              "11     69\n",
              "12     81\n",
              "13     42\n",
              "14     29\n",
              "15     15\n",
              "16     16\n",
              "17      9\n",
              "18      6\n",
              "20      2\n",
              "27      4\n",
              "37      1\n",
              "43     58\n",
              "51      1\n",
              "Name: min_to_subway, dtype: int64"
            ]
          },
          "metadata": {},
          "execution_count": 128
        }
      ]
    },
    {
      "cell_type": "code",
      "metadata": {
        "colab": {
          "base_uri": "https://localhost:8080/"
        },
        "id": "wMd93esYyTXS",
        "outputId": "86c3dff8-dffc-4501-f228-207b352788df"
      },
      "source": [
        "# Taking IQR of mins to subway\n",
        "time_iqr = stat.iqr(rentals.min_to_subway)\n",
        "time_median = np.median(rentals.min_to_subway)\n",
        "print(time_iqr)\n",
        "print(time_median)"
      ],
      "execution_count": 129,
      "outputs": [
        {
          "output_type": "stream",
          "name": "stdout",
          "text": [
            "4.0\n",
            "4.0\n"
          ]
        }
      ]
    },
    {
      "cell_type": "code",
      "metadata": {
        "colab": {
          "base_uri": "https://localhost:8080/"
        },
        "id": "Dyf_-tLlz96D",
        "outputId": "092b1112-f982-4912-a68e-fc784cfeb066"
      },
      "source": [
        "rentals[rentals.min_to_subway == 43]['borough'].value_counts()"
      ],
      "execution_count": 130,
      "outputs": [
        {
          "output_type": "execute_result",
          "data": {
            "text/plain": [
              "Manhattan    51\n",
              "Queens        5\n",
              "Brooklyn      2\n",
              "Name: borough, dtype: int64"
            ]
          },
          "metadata": {},
          "execution_count": 130
        }
      ]
    },
    {
      "cell_type": "markdown",
      "metadata": {
        "id": "R09EcIcgx2ov"
      },
      "source": [
        "The most frequent time to get to the subway from the rental (mode) is 2 minutes with 955 enteries. There are outliers and right-skewness in the data, 58 enteries are 43 mins from the subway.\n",
        "\n",
        "> to remove the effect of outliers, we can take IQR (50% of data). The Interquartile range is 4 mins, the median is also 4 mins.\n",
        "\n",
        "> to investigate the 58 enteries of 43 mins, 51 of the rentals were located in Manhattan. why it takes somone 43 mins to get the subway in Manhattan? ._. could it be 4 mins and 30 seconds and was entered by mistake as 43?\n",
        "\n"
      ]
    },
    {
      "cell_type": "markdown",
      "metadata": {
        "id": "GBlbbrE625Td"
      },
      "source": [
        "# Size of rental"
      ]
    },
    {
      "cell_type": "code",
      "metadata": {
        "colab": {
          "base_uri": "https://localhost:8080/",
          "height": 278
        },
        "id": "M_POlBJR1bsc",
        "outputId": "a5c2c72c-9cae-4bb7-c122-4f2f7a7a146b"
      },
      "source": [
        "sns.histplot(rentals.size_sqft)\n",
        "plt.show()"
      ],
      "execution_count": 131,
      "outputs": [
        {
          "output_type": "display_data",
          "data": {
            "image/png": "[encoded data removed]",
            "text/plain": [
              "<Figure size 432x288 with 1 Axes>"
            ]
          },
          "metadata": {
            "needs_background": "light"
          }
        }
      ]
    },
    {
      "cell_type": "code",
      "metadata": {
        "colab": {
          "base_uri": "https://localhost:8080/"
        },
        "id": "7nv4opw31sEa",
        "outputId": "3af80302-74d0-4afa-8a42-def2e2b98ec5"
      },
      "source": [
        "size_median = np.median(rentals.size_sqft)\n",
        "size_max = np.max(rentals.size_sqft)\n",
        "size_min = np.min(rentals.size_sqft)\n",
        "print(size_median)\n",
        "print('range:', size_min,'-', size_max, 'square feet')\n"
      ],
      "execution_count": 132,
      "outputs": [
        {
          "output_type": "stream",
          "name": "stdout",
          "text": [
            "800.0\n",
            "range: 250 - 4800 square feet\n"
          ]
        }
      ]
    },
    {
      "cell_type": "code",
      "metadata": {
        "colab": {
          "base_uri": "https://localhost:8080/"
        },
        "id": "8BoF0VKK2qt3",
        "outputId": "67191115-a6d8-4584-cd48-45ea12450932"
      },
      "source": [
        "size_iqr = stat.iqr(rentals.size_sqft)\n",
        "print(size_iqr)"
      ],
      "execution_count": 133,
      "outputs": [
        {
          "output_type": "stream",
          "name": "stdout",
          "text": [
            "461.0\n"
          ]
        }
      ]
    },
    {
      "cell_type": "code",
      "metadata": {
        "colab": {
          "base_uri": "https://localhost:8080/",
          "height": 278
        },
        "id": "CISH36Ni3HXv",
        "outputId": "fbf7dcdb-7e53-436d-d108-2abeb1b5f5f2"
      },
      "source": [
        "sns.boxplot(x=rentals.size_sqft, color = 'orange')\n",
        "plt.show()"
      ],
      "execution_count": 134,
      "outputs": [
        {
          "output_type": "display_data",
          "data": {
            "image/png": "[encoded data removed]",
            "text/plain": [
              "<Figure size 432x288 with 1 Axes>"
            ]
          },
          "metadata": {
            "needs_background": "light"
          }
        }
      ]
    },
    {
      "cell_type": "code",
      "metadata": {
        "colab": {
          "base_uri": "https://localhost:8080/",
          "height": 242
        },
        "id": "N0rREoeyyPJ9",
        "outputId": "e7357b69-d6f1-4f18-9eb7-5b2877d867aa"
      },
      "source": [
        "# to check the rentals with 800 square feet available in West Village\n",
        "rentals[rentals.size_sqft == 800][rentals.neighborhood == 'West Village']"
      ],
      "execution_count": 135,
      "outputs": [
        {
          "output_type": "stream",
          "name": "stderr",
          "text": [
            "/usr/local/lib/python3.7/dist-packages/ipykernel_launcher.py:2: UserWarning: Boolean Series key will be reindexed to match DataFrame index.\n",
            "  \n"
          ]
        },
        {
          "output_type": "execute_result",
          "data": {
            "text/html": [
              "<div>\n",
              "<style scoped>\n",
              "    .dataframe tbody tr th:only-of-type {\n",
              "        vertical-align: middle;\n",
              "    }\n",
              "\n",
              "    .dataframe tbody tr th {\n",
              "        vertical-align: top;\n",
              "    }\n",
              "\n",
              "    .dataframe thead th {\n",
              "        text-align: right;\n",
              "    }\n",
              "</style>\n",
              "<table border=\"1\" class=\"dataframe\">\n",
              "  <thead>\n",
              "    <tr style=\"text-align: right;\">\n",
              "      <th></th>\n",
              "      <th>rental_id</th>\n",
              "      <th>building_id</th>\n",
              "      <th>rent</th>\n",
              "      <th>bedrooms</th>\n",
              "      <th>bathrooms</th>\n",
              "      <th>size_sqft</th>\n",
              "      <th>min_to_subway</th>\n",
              "      <th>floor</th>\n",
              "      <th>building_age_yrs</th>\n",
              "      <th>no_fee</th>\n",
              "      <th>has_roofdeck</th>\n",
              "      <th>has_washer_dryer</th>\n",
              "      <th>has_doorman</th>\n",
              "      <th>has_elevator</th>\n",
              "      <th>has_dishwasher</th>\n",
              "      <th>has_patio</th>\n",
              "      <th>has_gym</th>\n",
              "      <th>neighborhood</th>\n",
              "      <th>submarket</th>\n",
              "      <th>borough</th>\n",
              "    </tr>\n",
              "  </thead>\n",
              "  <tbody>\n",
              "    <tr>\n",
              "      <th>1434</th>\n",
              "      <td>1556</td>\n",
              "      <td>65827777</td>\n",
              "      <td>5600</td>\n",
              "      <td>1.0</td>\n",
              "      <td>1</td>\n",
              "      <td>800</td>\n",
              "      <td>5</td>\n",
              "      <td>4.0</td>\n",
              "      <td>86</td>\n",
              "      <td>no</td>\n",
              "      <td>no</td>\n",
              "      <td>no</td>\n",
              "      <td>yes</td>\n",
              "      <td>yes</td>\n",
              "      <td>no</td>\n",
              "      <td>no</td>\n",
              "      <td>no</td>\n",
              "      <td>West Village</td>\n",
              "      <td>All Downtown</td>\n",
              "      <td>Manhattan</td>\n",
              "    </tr>\n",
              "    <tr>\n",
              "      <th>1662</th>\n",
              "      <td>197</td>\n",
              "      <td>81950429</td>\n",
              "      <td>4500</td>\n",
              "      <td>1.0</td>\n",
              "      <td>1</td>\n",
              "      <td>800</td>\n",
              "      <td>2</td>\n",
              "      <td>3.0</td>\n",
              "      <td>96</td>\n",
              "      <td>no</td>\n",
              "      <td>no</td>\n",
              "      <td>no</td>\n",
              "      <td>no</td>\n",
              "      <td>no</td>\n",
              "      <td>no</td>\n",
              "      <td>no</td>\n",
              "      <td>no</td>\n",
              "      <td>West Village</td>\n",
              "      <td>All Downtown</td>\n",
              "      <td>Manhattan</td>\n",
              "    </tr>\n",
              "    <tr>\n",
              "      <th>4002</th>\n",
              "      <td>7809</td>\n",
              "      <td>81078649</td>\n",
              "      <td>6800</td>\n",
              "      <td>1.0</td>\n",
              "      <td>1</td>\n",
              "      <td>800</td>\n",
              "      <td>2</td>\n",
              "      <td>8.0</td>\n",
              "      <td>121</td>\n",
              "      <td>no</td>\n",
              "      <td>no</td>\n",
              "      <td>no</td>\n",
              "      <td>no</td>\n",
              "      <td>no</td>\n",
              "      <td>no</td>\n",
              "      <td>no</td>\n",
              "      <td>no</td>\n",
              "      <td>West Village</td>\n",
              "      <td>All Downtown</td>\n",
              "      <td>Manhattan</td>\n",
              "    </tr>\n",
              "  </tbody>\n",
              "</table>\n",
              "</div>"
            ],
            "text/plain": [
              "      rental_id  building_id  rent  ...  neighborhood     submarket    borough\n",
              "1434       1556     65827777  5600  ...  West Village  All Downtown  Manhattan\n",
              "1662        197     81950429  4500  ...  West Village  All Downtown  Manhattan\n",
              "4002       7809     81078649  6800  ...  West Village  All Downtown  Manhattan\n",
              "\n",
              "[3 rows x 20 columns]"
            ]
          },
          "metadata": {},
          "execution_count": 135
        }
      ]
    },
    {
      "cell_type": "markdown",
      "metadata": {
        "id": "b13xz8Pdjvp6"
      },
      "source": [
        "### Categorical"
      ]
    },
    {
      "cell_type": "markdown",
      "metadata": {
        "id": "wzzzrPCY8EJO"
      },
      "source": [
        "# Boroughs and Submarkets"
      ]
    },
    {
      "cell_type": "code",
      "metadata": {
        "colab": {
          "base_uri": "https://localhost:8080/"
        },
        "id": "LIe0cA1e3D4J",
        "outputId": "c899a8e4-0050-4990-f7dd-4584a57de0a5"
      },
      "source": [
        "rentals.borough.unique()"
      ],
      "execution_count": 136,
      "outputs": [
        {
          "output_type": "execute_result",
          "data": {
            "text/plain": [
              "array(['Manhattan', 'Queens', 'Brooklyn'], dtype=object)"
            ]
          },
          "metadata": {},
          "execution_count": 136
        }
      ]
    },
    {
      "cell_type": "code",
      "metadata": {
        "colab": {
          "base_uri": "https://localhost:8080/"
        },
        "id": "PcV96li-3MUJ",
        "outputId": "551876ba-93b2-4804-e14c-b51d3690d3b0"
      },
      "source": [
        "# frequency of rentals in each borough\n",
        "rentals.borough.value_counts()"
      ],
      "execution_count": 137,
      "outputs": [
        {
          "output_type": "execute_result",
          "data": {
            "text/plain": [
              "Manhattan    3539\n",
              "Brooklyn     1013\n",
              "Queens        448\n",
              "Name: borough, dtype: int64"
            ]
          },
          "metadata": {},
          "execution_count": 137
        }
      ]
    },
    {
      "cell_type": "code",
      "metadata": {
        "colab": {
          "base_uri": "https://localhost:8080/"
        },
        "id": "2hVzgSpa3foE",
        "outputId": "d0308748-2fa4-4aeb-de60-d09bf518f876"
      },
      "source": [
        "# proprtion table of rentals in each borough\n",
        "# there are no missing values, as we check above\n",
        "rentals.borough.value_counts(normalize= True)"
      ],
      "execution_count": 138,
      "outputs": [
        {
          "output_type": "execute_result",
          "data": {
            "text/plain": [
              "Manhattan    0.7078\n",
              "Brooklyn     0.2026\n",
              "Queens       0.0896\n",
              "Name: borough, dtype: float64"
            ]
          },
          "metadata": {},
          "execution_count": 138
        }
      ]
    },
    {
      "cell_type": "code",
      "metadata": {
        "colab": {
          "base_uri": "https://localhost:8080/",
          "height": 407
        },
        "id": "aZHdmKND4Cgc",
        "outputId": "f55261f8-1901-48cf-a4f5-333116387c02"
      },
      "source": [
        "plt.figure(figsize=(8,6))\n",
        "sns.countplot(x=rentals.borough, order= rentals.borough.value_counts().index, palette= 'Set2')\n",
        "plt.xlabel('Boroughs')\n",
        "plt.title('Rentals in New York boroughs', fontsize= 18)\n",
        "plt.show()"
      ],
      "execution_count": 139,
      "outputs": [
        {
          "output_type": "display_data",
          "data": {
            "image/png": "[encoded data removed]",
            "text/plain": [
              "<Figure size 576x432 with 1 Axes>"
            ]
          },
          "metadata": {
            "needs_background": "light"
          }
        }
      ]
    },
    {
      "cell_type": "markdown",
      "metadata": {
        "id": "DGyrQ1I-8M4E"
      },
      "source": [
        "The majority of the offered rentals are located in Manhattan (70.1%), very few are located in Queens (8.9%)."
      ]
    },
    {
      "cell_type": "code",
      "metadata": {
        "colab": {
          "base_uri": "https://localhost:8080/",
          "height": 500
        },
        "id": "Xz5r22C25ooZ",
        "outputId": "4bee9b72-d8a5-41bf-e6e6-d1c57189de25"
      },
      "source": [
        "plt.figure(figsize=(10,6))\n",
        "sns.countplot(x= rentals.submarket, order= rentals.submarket.value_counts().index)\n",
        "plt.xticks(rotation= 90)\n",
        "plt.title('Rentals in New York submarkets', fontsize= 18)\n",
        "plt.show()"
      ],
      "execution_count": 140,
      "outputs": [
        {
          "output_type": "display_data",
          "data": {
            "image/png": "[encoded data removed]",
            "text/plain": [
              "<Figure size 720x432 with 1 Axes>"
            ]
          },
          "metadata": {
            "needs_background": "light"
          }
        }
      ]
    },
    {
      "cell_type": "code",
      "metadata": {
        "colab": {
          "base_uri": "https://localhost:8080/",
          "height": 408
        },
        "id": "bRM6_E_e-b4M",
        "outputId": "c3cbda25-fc55-485c-c4e3-4b0e013e23cb"
      },
      "source": [
        "# looking for rentals with washer/dryer and a doorman\n",
        "\n",
        "plt.figure(figsize=(10, 6))\n",
        "sns.countplot(x= rentals.has_washer_dryer, hue= rentals.has_doorman, palette=['#C9EBEF', '#B30019'])\n",
        "plt.title('Rentals with washer/dryer and a doorman', fontsize= 18)\n",
        "plt.show()"
      ],
      "execution_count": 141,
      "outputs": [
        {
          "output_type": "display_data",
          "data": {
            "image/png": "[encoded data removed]",
            "text/plain": [
              "<Figure size 720x432 with 1 Axes>"
            ]
          },
          "metadata": {
            "needs_background": "light"
          }
        }
      ]
    },
    {
      "cell_type": "code",
      "metadata": {
        "colab": {
          "base_uri": "https://localhost:8080/",
          "height": 580
        },
        "id": "1qrxsN2XAsQ-",
        "outputId": "8d9b0d5b-a763-42b8-dcd0-01663602c0e0"
      },
      "source": [
        "rentals[rentals.has_washer_dryer == 'yes'][rentals.has_doorman == 'yes'][rentals.has_dishwasher == 'yes']"
      ],
      "execution_count": 142,
      "outputs": [
        {
          "output_type": "stream",
          "name": "stderr",
          "text": [
            "/usr/local/lib/python3.7/dist-packages/ipykernel_launcher.py:1: UserWarning: Boolean Series key will be reindexed to match DataFrame index.\n",
            "  \"\"\"Entry point for launching an IPython kernel.\n"
          ]
        },
        {
          "output_type": "execute_result",
          "data": {
            "text/html": [
              "<div>\n",
              "<style scoped>\n",
              "    .dataframe tbody tr th:only-of-type {\n",
              "        vertical-align: middle;\n",
              "    }\n",
              "\n",
              "    .dataframe tbody tr th {\n",
              "        vertical-align: top;\n",
              "    }\n",
              "\n",
              "    .dataframe thead th {\n",
              "        text-align: right;\n",
              "    }\n",
              "</style>\n",
              "<table border=\"1\" class=\"dataframe\">\n",
              "  <thead>\n",
              "    <tr style=\"text-align: right;\">\n",
              "      <th></th>\n",
              "      <th>rental_id</th>\n",
              "      <th>building_id</th>\n",
              "      <th>rent</th>\n",
              "      <th>bedrooms</th>\n",
              "      <th>bathrooms</th>\n",
              "      <th>size_sqft</th>\n",
              "      <th>min_to_subway</th>\n",
              "      <th>floor</th>\n",
              "      <th>building_age_yrs</th>\n",
              "      <th>no_fee</th>\n",
              "      <th>has_roofdeck</th>\n",
              "      <th>has_washer_dryer</th>\n",
              "      <th>has_doorman</th>\n",
              "      <th>has_elevator</th>\n",
              "      <th>has_dishwasher</th>\n",
              "      <th>has_patio</th>\n",
              "      <th>has_gym</th>\n",
              "      <th>neighborhood</th>\n",
              "      <th>submarket</th>\n",
              "      <th>borough</th>\n",
              "    </tr>\n",
              "  </thead>\n",
              "  <tbody>\n",
              "    <tr>\n",
              "      <th>19</th>\n",
              "      <td>6594</td>\n",
              "      <td>9417041</td>\n",
              "      <td>4875</td>\n",
              "      <td>1.0</td>\n",
              "      <td>1</td>\n",
              "      <td>900</td>\n",
              "      <td>1</td>\n",
              "      <td>14.0</td>\n",
              "      <td>52</td>\n",
              "      <td>yes</td>\n",
              "      <td>no</td>\n",
              "      <td>yes</td>\n",
              "      <td>yes</td>\n",
              "      <td>yes</td>\n",
              "      <td>yes</td>\n",
              "      <td>no</td>\n",
              "      <td>yes</td>\n",
              "      <td>East Village</td>\n",
              "      <td>All Downtown</td>\n",
              "      <td>Manhattan</td>\n",
              "    </tr>\n",
              "    <tr>\n",
              "      <th>42</th>\n",
              "      <td>4678</td>\n",
              "      <td>41713885</td>\n",
              "      <td>7495</td>\n",
              "      <td>2.0</td>\n",
              "      <td>2</td>\n",
              "      <td>1431</td>\n",
              "      <td>3</td>\n",
              "      <td>4.0</td>\n",
              "      <td>10</td>\n",
              "      <td>no</td>\n",
              "      <td>yes</td>\n",
              "      <td>yes</td>\n",
              "      <td>yes</td>\n",
              "      <td>yes</td>\n",
              "      <td>yes</td>\n",
              "      <td>no</td>\n",
              "      <td>yes</td>\n",
              "      <td>Upper West Side</td>\n",
              "      <td>All Upper West Side</td>\n",
              "      <td>Manhattan</td>\n",
              "    </tr>\n",
              "    <tr>\n",
              "      <th>97</th>\n",
              "      <td>2376</td>\n",
              "      <td>78690860</td>\n",
              "      <td>4600</td>\n",
              "      <td>1.0</td>\n",
              "      <td>1</td>\n",
              "      <td>890</td>\n",
              "      <td>2</td>\n",
              "      <td>8.0</td>\n",
              "      <td>10</td>\n",
              "      <td>no</td>\n",
              "      <td>no</td>\n",
              "      <td>yes</td>\n",
              "      <td>yes</td>\n",
              "      <td>yes</td>\n",
              "      <td>yes</td>\n",
              "      <td>no</td>\n",
              "      <td>no</td>\n",
              "      <td>Midtown East</td>\n",
              "      <td>All Midtown</td>\n",
              "      <td>Manhattan</td>\n",
              "    </tr>\n",
              "    <tr>\n",
              "      <th>116</th>\n",
              "      <td>8071</td>\n",
              "      <td>19187364</td>\n",
              "      <td>5595</td>\n",
              "      <td>2.0</td>\n",
              "      <td>2</td>\n",
              "      <td>1170</td>\n",
              "      <td>4</td>\n",
              "      <td>28.0</td>\n",
              "      <td>85</td>\n",
              "      <td>yes</td>\n",
              "      <td>yes</td>\n",
              "      <td>yes</td>\n",
              "      <td>yes</td>\n",
              "      <td>yes</td>\n",
              "      <td>yes</td>\n",
              "      <td>no</td>\n",
              "      <td>yes</td>\n",
              "      <td>Financial District</td>\n",
              "      <td>All Downtown</td>\n",
              "      <td>Manhattan</td>\n",
              "    </tr>\n",
              "    <tr>\n",
              "      <th>146</th>\n",
              "      <td>7418</td>\n",
              "      <td>57327522</td>\n",
              "      <td>5475</td>\n",
              "      <td>1.0</td>\n",
              "      <td>1</td>\n",
              "      <td>1094</td>\n",
              "      <td>2</td>\n",
              "      <td>38.0</td>\n",
              "      <td>30</td>\n",
              "      <td>no</td>\n",
              "      <td>yes</td>\n",
              "      <td>yes</td>\n",
              "      <td>yes</td>\n",
              "      <td>yes</td>\n",
              "      <td>yes</td>\n",
              "      <td>no</td>\n",
              "      <td>yes</td>\n",
              "      <td>Midtown</td>\n",
              "      <td>All Midtown</td>\n",
              "      <td>Manhattan</td>\n",
              "    </tr>\n",
              "    <tr>\n",
              "      <th>...</th>\n",
              "      <td>...</td>\n",
              "      <td>...</td>\n",
              "      <td>...</td>\n",
              "      <td>...</td>\n",
              "      <td>...</td>\n",
              "      <td>...</td>\n",
              "      <td>...</td>\n",
              "      <td>...</td>\n",
              "      <td>...</td>\n",
              "      <td>...</td>\n",
              "      <td>...</td>\n",
              "      <td>...</td>\n",
              "      <td>...</td>\n",
              "      <td>...</td>\n",
              "      <td>...</td>\n",
              "      <td>...</td>\n",
              "      <td>...</td>\n",
              "      <td>...</td>\n",
              "      <td>...</td>\n",
              "      <td>...</td>\n",
              "    </tr>\n",
              "    <tr>\n",
              "      <th>4981</th>\n",
              "      <td>9792</td>\n",
              "      <td>29203171</td>\n",
              "      <td>2995</td>\n",
              "      <td>0.0</td>\n",
              "      <td>1</td>\n",
              "      <td>622</td>\n",
              "      <td>5</td>\n",
              "      <td>4.0</td>\n",
              "      <td>31</td>\n",
              "      <td>no</td>\n",
              "      <td>yes</td>\n",
              "      <td>yes</td>\n",
              "      <td>yes</td>\n",
              "      <td>yes</td>\n",
              "      <td>yes</td>\n",
              "      <td>no</td>\n",
              "      <td>yes</td>\n",
              "      <td>Battery Park City</td>\n",
              "      <td>All Downtown</td>\n",
              "      <td>Manhattan</td>\n",
              "    </tr>\n",
              "    <tr>\n",
              "      <th>4990</th>\n",
              "      <td>1676</td>\n",
              "      <td>86914672</td>\n",
              "      <td>18000</td>\n",
              "      <td>3.0</td>\n",
              "      <td>2</td>\n",
              "      <td>2470</td>\n",
              "      <td>3</td>\n",
              "      <td>5.0</td>\n",
              "      <td>116</td>\n",
              "      <td>no</td>\n",
              "      <td>yes</td>\n",
              "      <td>yes</td>\n",
              "      <td>yes</td>\n",
              "      <td>yes</td>\n",
              "      <td>yes</td>\n",
              "      <td>no</td>\n",
              "      <td>yes</td>\n",
              "      <td>DUMBO</td>\n",
              "      <td>Northwest Brooklyn</td>\n",
              "      <td>Brooklyn</td>\n",
              "    </tr>\n",
              "    <tr>\n",
              "      <th>4994</th>\n",
              "      <td>7582</td>\n",
              "      <td>71691994</td>\n",
              "      <td>4210</td>\n",
              "      <td>1.0</td>\n",
              "      <td>1</td>\n",
              "      <td>532</td>\n",
              "      <td>3</td>\n",
              "      <td>8.0</td>\n",
              "      <td>16</td>\n",
              "      <td>yes</td>\n",
              "      <td>yes</td>\n",
              "      <td>yes</td>\n",
              "      <td>yes</td>\n",
              "      <td>yes</td>\n",
              "      <td>yes</td>\n",
              "      <td>no</td>\n",
              "      <td>yes</td>\n",
              "      <td>Chelsea</td>\n",
              "      <td>All Downtown</td>\n",
              "      <td>Manhattan</td>\n",
              "    </tr>\n",
              "    <tr>\n",
              "      <th>4996</th>\n",
              "      <td>5686</td>\n",
              "      <td>92994390</td>\n",
              "      <td>6675</td>\n",
              "      <td>2.0</td>\n",
              "      <td>2</td>\n",
              "      <td>988</td>\n",
              "      <td>5</td>\n",
              "      <td>10.0</td>\n",
              "      <td>9</td>\n",
              "      <td>yes</td>\n",
              "      <td>yes</td>\n",
              "      <td>yes</td>\n",
              "      <td>yes</td>\n",
              "      <td>yes</td>\n",
              "      <td>yes</td>\n",
              "      <td>no</td>\n",
              "      <td>yes</td>\n",
              "      <td>Tribeca</td>\n",
              "      <td>All Downtown</td>\n",
              "      <td>Manhattan</td>\n",
              "    </tr>\n",
              "    <tr>\n",
              "      <th>4998</th>\n",
              "      <td>5188</td>\n",
              "      <td>62828354</td>\n",
              "      <td>3475</td>\n",
              "      <td>1.0</td>\n",
              "      <td>1</td>\n",
              "      <td>651</td>\n",
              "      <td>6</td>\n",
              "      <td>5.0</td>\n",
              "      <td>14</td>\n",
              "      <td>yes</td>\n",
              "      <td>no</td>\n",
              "      <td>yes</td>\n",
              "      <td>yes</td>\n",
              "      <td>yes</td>\n",
              "      <td>yes</td>\n",
              "      <td>no</td>\n",
              "      <td>yes</td>\n",
              "      <td>Midtown West</td>\n",
              "      <td>All Midtown</td>\n",
              "      <td>Manhattan</td>\n",
              "    </tr>\n",
              "  </tbody>\n",
              "</table>\n",
              "<p>254 rows × 20 columns</p>\n",
              "</div>"
            ],
            "text/plain": [
              "      rental_id  building_id  ...            submarket    borough\n",
              "19         6594      9417041  ...         All Downtown  Manhattan\n",
              "42         4678     41713885  ...  All Upper West Side  Manhattan\n",
              "97         2376     78690860  ...          All Midtown  Manhattan\n",
              "116        8071     19187364  ...         All Downtown  Manhattan\n",
              "146        7418     57327522  ...          All Midtown  Manhattan\n",
              "...         ...          ...  ...                  ...        ...\n",
              "4981       9792     29203171  ...         All Downtown  Manhattan\n",
              "4990       1676     86914672  ...   Northwest Brooklyn   Brooklyn\n",
              "4994       7582     71691994  ...         All Downtown  Manhattan\n",
              "4996       5686     92994390  ...         All Downtown  Manhattan\n",
              "4998       5188     62828354  ...          All Midtown  Manhattan\n",
              "\n",
              "[254 rows x 20 columns]"
            ]
          },
          "metadata": {},
          "execution_count": 142
        }
      ]
    },
    {
      "cell_type": "markdown",
      "metadata": {
        "id": "KSA8zz1-A9EC"
      },
      "source": [
        "There are 407 offered rentals with washer/dryer and doorman, 254 of which has a dishwasher."
      ]
    }
  ]
}
